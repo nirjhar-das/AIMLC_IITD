{
 "cells": [
  {
   "cell_type": "markdown",
   "metadata": {},
   "source": [
    "# Welcome to Jupyter Notebook Tutorial by AIMLC, IITD\n",
    "--- prepared by [Nirjhar Das](https://www.linkedin.com/in/nirjhar-das-874596195).\n",
    "\n",
    "In this notebook, we will get familiar with the Jupyter environment and also\n",
    "explore the powerful __Python__ libraries:\n",
    "1. __Pandas__\n",
    "2. __NumPy__\n",
    "3. __Matplotlib__"
   ]
  },
  {
   "cell_type": "markdown",
   "metadata": {},
   "source": [
    "## Package installation and import\n",
    "\n",
    "If you have installed ___Anaconda___ then these packages are already installed, so you can proceed to the next block of codes.\n",
    "\n",
    "Otherwise, if you have only __Python 3.x__ installed in your computer, then you\n",
    "have to install these packages separately.\n",
    "At your _terminal/cmd_ run the following commands\n",
    "```terminal\n",
    "pip install numpy pandas matplotlib\n",
    "```\n",
    "\\[ __Note__: You need internet connectivity to download and install these packages using the __pip__ command \\]\n",
    "\n",
    "Once the packages are installed, proceed to the next block of codes given below."
   ]
  },
  {
   "cell_type": "code",
   "execution_count": 1,
   "metadata": {},
   "outputs": [],
   "source": [
    "#import all the necessary packages\n",
    "import numpy as np\n",
    "import pandas as pd\n",
    "import matplotlib.pyplot as plt\n",
    "%matplotlib inline"
   ]
  },
  {
   "cell_type": "markdown",
   "metadata": {},
   "source": [
    "### Data loading with Pandas\n",
    "\n",
    "__Pandas__ is the perfect package for handling tabular data. It has awesome methods to manipulate and perform calculations on the data. The data is read as an object called _DATAFRAME_ in Pandas. The dataframe holds the whole table of data and supports functions to work in data.\n",
    "\n",
    "Find out more in the [official documentation](https://pandas.pydata.org/docs/).\n",
    "\n",
    "Let's take a look into some examples."
   ]
  },
  {
   "cell_type": "code",
   "execution_count": 2,
   "metadata": {},
   "outputs": [
    {
     "name": "stdout",
     "output_type": "stream",
     "text": [
      "Number of entries =  1000\n"
     ]
    },
    {
     "data": {
      "text/html": [
       "<div>\n",
       "<style scoped>\n",
       "    .dataframe tbody tr th:only-of-type {\n",
       "        vertical-align: middle;\n",
       "    }\n",
       "\n",
       "    .dataframe tbody tr th {\n",
       "        vertical-align: top;\n",
       "    }\n",
       "\n",
       "    .dataframe thead th {\n",
       "        text-align: right;\n",
       "    }\n",
       "</style>\n",
       "<table border=\"1\" class=\"dataframe\">\n",
       "  <thead>\n",
       "    <tr style=\"text-align: right;\">\n",
       "      <th></th>\n",
       "      <th>gender</th>\n",
       "      <th>race/ethnicity</th>\n",
       "      <th>parental level of education</th>\n",
       "      <th>lunch</th>\n",
       "      <th>test preparation course</th>\n",
       "      <th>math score</th>\n",
       "      <th>reading score</th>\n",
       "      <th>writing score</th>\n",
       "    </tr>\n",
       "  </thead>\n",
       "  <tbody>\n",
       "    <tr>\n",
       "      <th>0</th>\n",
       "      <td>female</td>\n",
       "      <td>group B</td>\n",
       "      <td>bachelor's degree</td>\n",
       "      <td>standard</td>\n",
       "      <td>none</td>\n",
       "      <td>72</td>\n",
       "      <td>72</td>\n",
       "      <td>74</td>\n",
       "    </tr>\n",
       "    <tr>\n",
       "      <th>1</th>\n",
       "      <td>female</td>\n",
       "      <td>group C</td>\n",
       "      <td>some college</td>\n",
       "      <td>standard</td>\n",
       "      <td>completed</td>\n",
       "      <td>69</td>\n",
       "      <td>90</td>\n",
       "      <td>88</td>\n",
       "    </tr>\n",
       "    <tr>\n",
       "      <th>2</th>\n",
       "      <td>female</td>\n",
       "      <td>group B</td>\n",
       "      <td>master's degree</td>\n",
       "      <td>standard</td>\n",
       "      <td>none</td>\n",
       "      <td>90</td>\n",
       "      <td>95</td>\n",
       "      <td>93</td>\n",
       "    </tr>\n",
       "    <tr>\n",
       "      <th>3</th>\n",
       "      <td>male</td>\n",
       "      <td>group A</td>\n",
       "      <td>associate's degree</td>\n",
       "      <td>free/reduced</td>\n",
       "      <td>none</td>\n",
       "      <td>47</td>\n",
       "      <td>57</td>\n",
       "      <td>44</td>\n",
       "    </tr>\n",
       "    <tr>\n",
       "      <th>4</th>\n",
       "      <td>male</td>\n",
       "      <td>group C</td>\n",
       "      <td>some college</td>\n",
       "      <td>standard</td>\n",
       "      <td>none</td>\n",
       "      <td>76</td>\n",
       "      <td>78</td>\n",
       "      <td>75</td>\n",
       "    </tr>\n",
       "    <tr>\n",
       "      <th>5</th>\n",
       "      <td>female</td>\n",
       "      <td>group B</td>\n",
       "      <td>associate's degree</td>\n",
       "      <td>standard</td>\n",
       "      <td>none</td>\n",
       "      <td>71</td>\n",
       "      <td>83</td>\n",
       "      <td>78</td>\n",
       "    </tr>\n",
       "    <tr>\n",
       "      <th>6</th>\n",
       "      <td>female</td>\n",
       "      <td>group B</td>\n",
       "      <td>some college</td>\n",
       "      <td>standard</td>\n",
       "      <td>completed</td>\n",
       "      <td>88</td>\n",
       "      <td>95</td>\n",
       "      <td>92</td>\n",
       "    </tr>\n",
       "    <tr>\n",
       "      <th>7</th>\n",
       "      <td>male</td>\n",
       "      <td>group B</td>\n",
       "      <td>some college</td>\n",
       "      <td>free/reduced</td>\n",
       "      <td>none</td>\n",
       "      <td>40</td>\n",
       "      <td>43</td>\n",
       "      <td>39</td>\n",
       "    </tr>\n",
       "    <tr>\n",
       "      <th>8</th>\n",
       "      <td>male</td>\n",
       "      <td>group D</td>\n",
       "      <td>high school</td>\n",
       "      <td>free/reduced</td>\n",
       "      <td>completed</td>\n",
       "      <td>64</td>\n",
       "      <td>64</td>\n",
       "      <td>67</td>\n",
       "    </tr>\n",
       "    <tr>\n",
       "      <th>9</th>\n",
       "      <td>female</td>\n",
       "      <td>group B</td>\n",
       "      <td>high school</td>\n",
       "      <td>free/reduced</td>\n",
       "      <td>none</td>\n",
       "      <td>38</td>\n",
       "      <td>60</td>\n",
       "      <td>50</td>\n",
       "    </tr>\n",
       "  </tbody>\n",
       "</table>\n",
       "</div>"
      ],
      "text/plain": [
       "   gender race/ethnicity parental level of education         lunch  \\\n",
       "0  female        group B           bachelor's degree      standard   \n",
       "1  female        group C                some college      standard   \n",
       "2  female        group B             master's degree      standard   \n",
       "3    male        group A          associate's degree  free/reduced   \n",
       "4    male        group C                some college      standard   \n",
       "5  female        group B          associate's degree      standard   \n",
       "6  female        group B                some college      standard   \n",
       "7    male        group B                some college  free/reduced   \n",
       "8    male        group D                 high school  free/reduced   \n",
       "9  female        group B                 high school  free/reduced   \n",
       "\n",
       "  test preparation course  math score  reading score  writing score  \n",
       "0                    none          72             72             74  \n",
       "1               completed          69             90             88  \n",
       "2                    none          90             95             93  \n",
       "3                    none          47             57             44  \n",
       "4                    none          76             78             75  \n",
       "5                    none          71             83             78  \n",
       "6               completed          88             95             92  \n",
       "7                    none          40             43             39  \n",
       "8               completed          64             64             67  \n",
       "9                    none          38             60             50  "
      ]
     },
     "execution_count": 2,
     "metadata": {},
     "output_type": "execute_result"
    }
   ],
   "source": [
    "#Now that the packages are installed, we can load the data into the program\n",
    "df = pd.read_csv('StudentsPerformance.csv')\n",
    "print('Number of entries = ', len(df))\n",
    "df.head(10)"
   ]
  },
  {
   "cell_type": "markdown",
   "metadata": {},
   "source": [
    "You can see that there are 1000 rows in table. Each row correspond to an ___observation___ (student) and the columns are the ___features___ pertaining to the observations. Typical Machine Learning requires you to extract features from a raw data file (say, some website, or some software). In this case, the data has already been collected and stored in a .csv file.\n",
    "\n",
    "Once the data is collected, the pipeline involves __Exploratory Data Analysis (EDA)__, where the engineer looks into the data and tries to figure out statistics and correlations. Let's do some basic EDA now."
   ]
  },
  {
   "cell_type": "code",
   "execution_count": 3,
   "metadata": {},
   "outputs": [
    {
     "name": "stdout",
     "output_type": "stream",
     "text": [
      "{'gender': ['female', 'male'], 'race/ethnicity': ['group B', 'group C', 'group A', 'group D', 'group E'], 'parental level of education': [\"bachelor's degree\", 'some college', \"master's degree\", \"associate's degree\", 'high school', 'some high school'], 'lunch': ['standard', 'free/reduced'], 'test preparation course': ['none', 'completed']}\n"
     ]
    }
   ],
   "source": [
    "#Let's get an idea of the different types of data values present in each column (except the last three)\n",
    "col_dict = {}\n",
    "for col in df.columns[:-3]:\n",
    "    col_dict[col] = list(df[col].unique())\n",
    "print(col_dict)"
   ]
  },
  {
   "cell_type": "code",
   "execution_count": 4,
   "metadata": {},
   "outputs": [
    {
     "name": "stdout",
     "output_type": "stream",
     "text": [
      "Distribution of values for gender\n",
      "female    518\n",
      "male      482\n",
      "Name: gender, dtype: int64\n",
      "\n",
      "Distribution of values for race/ethnicity\n",
      "group C    319\n",
      "group D    262\n",
      "group B    190\n",
      "group E    140\n",
      "group A     89\n",
      "Name: race/ethnicity, dtype: int64\n",
      "\n",
      "Distribution of values for parental level of education\n",
      "some college          226\n",
      "associate's degree    222\n",
      "high school           196\n",
      "some high school      179\n",
      "bachelor's degree     118\n",
      "master's degree        59\n",
      "Name: parental level of education, dtype: int64\n",
      "\n",
      "Distribution of values for lunch\n",
      "standard        645\n",
      "free/reduced    355\n",
      "Name: lunch, dtype: int64\n",
      "\n",
      "Distribution of values for test preparation course\n",
      "none         642\n",
      "completed    358\n",
      "Name: test preparation course, dtype: int64\n",
      "\n"
     ]
    }
   ],
   "source": [
    "for key in col_dict:\n",
    "    print('Distribution of values for', key)\n",
    "    print(df[key].value_counts(), end='\\n\\n')"
   ]
  },
  {
   "cell_type": "markdown",
   "metadata": {},
   "source": [
    "Now that we have an idea of the __categorical__ data values, let us look at some statistics related to the __numerical__ data values."
   ]
  },
  {
   "cell_type": "code",
   "execution_count": 5,
   "metadata": {},
   "outputs": [
    {
     "data": {
      "text/html": [
       "<div>\n",
       "<style scoped>\n",
       "    .dataframe tbody tr th:only-of-type {\n",
       "        vertical-align: middle;\n",
       "    }\n",
       "\n",
       "    .dataframe tbody tr th {\n",
       "        vertical-align: top;\n",
       "    }\n",
       "\n",
       "    .dataframe thead th {\n",
       "        text-align: right;\n",
       "    }\n",
       "</style>\n",
       "<table border=\"1\" class=\"dataframe\">\n",
       "  <thead>\n",
       "    <tr style=\"text-align: right;\">\n",
       "      <th></th>\n",
       "      <th>math score</th>\n",
       "      <th>reading score</th>\n",
       "      <th>writing score</th>\n",
       "    </tr>\n",
       "  </thead>\n",
       "  <tbody>\n",
       "    <tr>\n",
       "      <th>count</th>\n",
       "      <td>1000.00000</td>\n",
       "      <td>1000.000000</td>\n",
       "      <td>1000.000000</td>\n",
       "    </tr>\n",
       "    <tr>\n",
       "      <th>mean</th>\n",
       "      <td>66.08900</td>\n",
       "      <td>69.169000</td>\n",
       "      <td>68.054000</td>\n",
       "    </tr>\n",
       "    <tr>\n",
       "      <th>std</th>\n",
       "      <td>15.16308</td>\n",
       "      <td>14.600192</td>\n",
       "      <td>15.195657</td>\n",
       "    </tr>\n",
       "    <tr>\n",
       "      <th>min</th>\n",
       "      <td>0.00000</td>\n",
       "      <td>17.000000</td>\n",
       "      <td>10.000000</td>\n",
       "    </tr>\n",
       "    <tr>\n",
       "      <th>25%</th>\n",
       "      <td>57.00000</td>\n",
       "      <td>59.000000</td>\n",
       "      <td>57.750000</td>\n",
       "    </tr>\n",
       "    <tr>\n",
       "      <th>50%</th>\n",
       "      <td>66.00000</td>\n",
       "      <td>70.000000</td>\n",
       "      <td>69.000000</td>\n",
       "    </tr>\n",
       "    <tr>\n",
       "      <th>75%</th>\n",
       "      <td>77.00000</td>\n",
       "      <td>79.000000</td>\n",
       "      <td>79.000000</td>\n",
       "    </tr>\n",
       "    <tr>\n",
       "      <th>max</th>\n",
       "      <td>100.00000</td>\n",
       "      <td>100.000000</td>\n",
       "      <td>100.000000</td>\n",
       "    </tr>\n",
       "  </tbody>\n",
       "</table>\n",
       "</div>"
      ],
      "text/plain": [
       "       math score  reading score  writing score\n",
       "count  1000.00000    1000.000000    1000.000000\n",
       "mean     66.08900      69.169000      68.054000\n",
       "std      15.16308      14.600192      15.195657\n",
       "min       0.00000      17.000000      10.000000\n",
       "25%      57.00000      59.000000      57.750000\n",
       "50%      66.00000      70.000000      69.000000\n",
       "75%      77.00000      79.000000      79.000000\n",
       "max     100.00000     100.000000     100.000000"
      ]
     },
     "execution_count": 5,
     "metadata": {},
     "output_type": "execute_result"
    }
   ],
   "source": [
    "df.describe()"
   ]
  },
  {
   "cell_type": "markdown",
   "metadata": {},
   "source": [
    "## Digression\n",
    "Here, I would like to point out that in most cases, numerical data is __standardized__ before further processing. This is because most of Machine Learning algortihms give better result with Standard data. This step is particularly important when data values belong to different scales (for e.g. height vs. weight which have different units). Also, in Neural Networks, things (I mean, parameter values) may explode if data is not _normalized/standardized_.\n",
    "\n",
    "___How to standardize data?___<br>\n",
    "A normal distribution is one in which __mean ($\\mu$) = 0.0__ and __standard deviation ($\\sigma$) = 1.0__<br>\n",
    "So, for a set of observations of random variable _x_ do<br>\n",
    "$$x^\\prime = \\frac{x - \\mu}{\\sigma}$$\n",
    "\n",
    "#### Python Code for standardization\n",
    "```python\n",
    "s, sq_s, n = 0.0, 0.0, 0.0\n",
    "for x in observed_dataset:\n",
    "    s = s + x\n",
    "    sq_s = sq_s + (x*x)\n",
    "    n = n + 1.0\n",
    "\n",
    "mean = s/n\n",
    "sq_mean = sq_s/n\n",
    "std = math.sqrt(sq_mean - (mean*mean))\n",
    "\n",
    "new_dataset = []\n",
    "for x in observed_dataset:\n",
    "    x_new = (x - mean)/std\n",
    "    new_dataset.append(x_new)\n",
    "```\n",
    "\n",
    "___How to normalize data?___<br>\n",
    "A normalized data is such that $x \\in [0, 1]$<br>\n",
    "So for a set of observations of $x$ do:<br>\n",
    "$$x^\\prime = \\frac{x - x_{min}}{x_{max} - x_{min}}$$\n",
    "\n",
    "#### Python code for normalization\n",
    "```python\n",
    "min_x = min(observed_dataset)\n",
    "max_x = max(observed_dataset)\n",
    "new_dataset = [(x - min_x)/(max_x - min_x) for x in observed_dataset]\n",
    "```"
   ]
  },
  {
   "cell_type": "markdown",
   "metadata": {},
   "source": [
    "## But!\n",
    "![We don't do that here](https://i.imgflip.com/2bqill.jpg \"Meme1\")\n",
    "\n",
    "Let's unlock the power of __NumPy__."
   ]
  },
  {
   "cell_type": "code",
   "execution_count": 6,
   "metadata": {},
   "outputs": [
    {
     "data": {
      "text/plain": [
       "count    1.000000e+03\n",
       "mean     8.704149e-17\n",
       "std      1.000500e+00\n",
       "min     -4.360728e+00\n",
       "25%     -5.997164e-01\n",
       "50%     -5.872457e-03\n",
       "75%      7.199368e-01\n",
       "max      2.237538e+00\n",
       "Name: standardized math score, dtype: float64"
      ]
     },
     "execution_count": 6,
     "metadata": {},
     "output_type": "execute_result"
    }
   ],
   "source": [
    "#Let's take an example\n",
    "math_score = np.array(df['math score'])\n",
    "std_math_score = (math_score - np.mean(math_score))/np.std(math_score) #That's it! It's standardized!\n",
    "\n",
    "#Create a column in dataframe and add the standardized scores\n",
    "df['standardized math score'] = std_math_score\n",
    "#To cross-check:\n",
    "df['standardized math score'].describe()"
   ]
  },
  {
   "cell_type": "markdown",
   "metadata": {},
   "source": [
    "__Note__: _mean_ $\\sim 10^{-17}$ which is very close to $0.0$. Similarly, _std_ $\\approx 1.0$. The error remains due to some internal computation."
   ]
  },
  {
   "cell_type": "code",
   "execution_count": 7,
   "metadata": {},
   "outputs": [
    {
     "data": {
      "text/plain": [
       "count    1000.000000\n",
       "mean        0.660890\n",
       "std         0.151631\n",
       "min         0.000000\n",
       "25%         0.570000\n",
       "50%         0.660000\n",
       "75%         0.770000\n",
       "max         1.000000\n",
       "Name: normalized math score, dtype: float64"
      ]
     },
     "execution_count": 7,
     "metadata": {},
     "output_type": "execute_result"
    }
   ],
   "source": [
    "#Normalizing data\n",
    "norm_math_score = (math_score - np.min(math_score))/(np.max(math_score) - np.min(math_score))\n",
    "df['normalized math score'] = norm_math_score\n",
    "df['normalized math score'].describe()"
   ]
  },
  {
   "cell_type": "markdown",
   "metadata": {},
   "source": [
    "__Note__: _min_ $= 0.0$, _max_ $= 1.0$. Thus, every value $\\in [0, 1]$"
   ]
  },
  {
   "cell_type": "markdown",
   "metadata": {},
   "source": [
    "## Power of NumPy\n",
    "__NumPy__ is the Linear Algebra library of Python. It lets you manipulate matrices and perform wide range of matrix operations. Find out more about this amazing library from the [official documentation](https://numpy.org/doc/stable/)."
   ]
  },
  {
   "cell_type": "code",
   "execution_count": 8,
   "metadata": {},
   "outputs": [
    {
     "name": "stdout",
     "output_type": "stream",
     "text": [
      "A =\n",
      "[[0.93332435 0.20735817 0.05303171 0.68391967 0.83502065]\n",
      " [0.10895158 0.99527198 0.92882919 0.46145559 0.74911084]\n",
      " [0.70639988 0.22345965 0.38785954 0.29415968 0.61790354]\n",
      " [0.19625242 0.57499556 0.91101731 0.88614217 0.60173533]\n",
      " [0.31313551 0.00167818 0.04331418 0.28822055 0.6376449 ]]\n",
      "\n",
      "B =\n",
      "[[-1.56514871  0.10604266 -0.66464789]\n",
      " [ 0.75119322 -0.94055065 -0.82375871]\n",
      " [ 1.05449204 -0.23966716 -0.67346716]\n",
      " [ 1.23693188  1.02651514 -0.08527441]\n",
      " [ 0.73307603  0.04828995  1.26091245]]\n",
      "\n",
      "C =\n",
      "[[0. 0.]\n",
      " [0. 0.]\n",
      " [0. 0.]]\n",
      "\n",
      "I =\n",
      "[[1. 0. 0. 0. 0.]\n",
      " [0. 1. 0. 0. 0.]\n",
      " [0. 0. 1. 0. 0.]\n",
      " [0. 0. 0. 1. 0.]\n",
      " [0. 0. 0. 0. 1.]]\n",
      "\n",
      "v =\n",
      "[0.65270969 0.75497102 0.25543954 0.23137629 0.65860055]\n",
      "\n",
      "u =\n",
      "[ 0.49833328  0.91703895 -0.37795252  0.98517254  0.34938271]\n",
      "\n"
     ]
    }
   ],
   "source": [
    "#Let's look at a few examples\n",
    "A = np.random.rand(5, 5) #Define a matrix of size 5x5 filled with random values\n",
    "B = np.random.normal(0.0, 1.0, size=(5, 3)) #Define a matrix of size 5x3 filled with random values from a Normal Distribution\n",
    "C = np.zeros((3, 2)) #A matrix filled with zeros\n",
    "I = np.eye(5) #An identity matrix of order 5\n",
    "v = np.random.rand(5) #A vector of size 5x1\n",
    "u = np.random.uniform(low=-1.0, high=1.0, size=5) #A vector of size 5x1 with uniform sampling between low and high\n",
    "\n",
    "print('A =')\n",
    "print(A, end='\\n\\n')\n",
    "print('B =')\n",
    "print(B, end='\\n\\n')\n",
    "print('C =')\n",
    "print(C, end='\\n\\n')\n",
    "print('I =')\n",
    "print(I, end='\\n\\n')\n",
    "print('v =')\n",
    "print(v, end='\\n\\n')\n",
    "print('u =')\n",
    "print(u, end='\\n\\n')"
   ]
  },
  {
   "cell_type": "code",
   "execution_count": 9,
   "metadata": {},
   "outputs": [
    {
     "name": "stdout",
     "output_type": "stream",
     "text": [
      "A**2 =\n",
      " [[8.71094345e-01 4.29974107e-02 2.81236203e-03 4.67746115e-01\n",
      "  6.97259479e-01]\n",
      " [1.18704478e-02 9.90566305e-01 8.62723659e-01 2.12941264e-01\n",
      "  5.61167048e-01]\n",
      " [4.99000792e-01 4.99342171e-02 1.50435022e-01 8.65299179e-02\n",
      "  3.81804791e-01]\n",
      " [3.85150134e-02 3.30619890e-01 8.29952546e-01 7.85247948e-01\n",
      "  3.62085412e-01]\n",
      " [9.80538497e-02 2.81629872e-06 1.87611794e-03 8.30710841e-02\n",
      "  4.06591018e-01]]\n",
      "\n",
      "A^2 =\n",
      " [[1.32684345 0.80641274 0.92189585 1.59632543 1.91143312]\n",
      " [1.19138344 1.48730622 1.74331196 1.43183645 2.16581353]\n",
      " [1.20884752 0.62572934 0.69020101 1.13908992 1.56792363]\n",
      " [1.25168861 1.32708475 1.73118154 1.6262208  2.07444758]\n",
      " [0.57927021 0.24307605 0.32515765 0.66686197 0.86951925]]\n",
      "\n",
      "A x B =\n",
      " [[ 0.20899182  0.63360837  0.16770681]\n",
      " [ 2.67650344 -0.63729436 -0.61260153]\n",
      " [ 0.28806108  0.1035741  -0.16075671]\n",
      " [ 2.62264429  0.20035387 -0.53446628]\n",
      " [ 0.38078282  0.34790091  0.5407586 ]]\n",
      "Shape = (5, 3)\n",
      "\n",
      "I.v =\n",
      " [0.65270969 0.75497102 0.25543954 0.23137629 0.65860055]\n",
      "\n",
      "C' =\n",
      " [[0. 0. 0.]\n",
      " [0. 0. 0.]]\n",
      "(2, 3)\n",
      "\n",
      "u'.v =\n",
      " 1.3791099935660742\n"
     ]
    }
   ],
   "source": [
    "#Element-wise squaring a matrix\n",
    "print('A**2 =\\n', A**2, end='\\n\\n')\n",
    "\n",
    "#Matrix squaring\n",
    "print('A^2 =\\n', np.matmul(A, A), end='\\n\\n')\n",
    "\n",
    "#Matrix multiplication\n",
    "print('A x B =\\n', A@B)\n",
    "print('Shape =', (A@B).shape, end='\\n\\n') #Note: Shape should be (5, 3)\n",
    "\n",
    "#Matrix-vector multiplication\n",
    "print('I.v =\\n', np.dot(I, v), end='\\n\\n')\n",
    "\n",
    "#Transpose\n",
    "print('C\\' =\\n', C.T)\n",
    "print(C.T.shape, end='\\n\\n')\n",
    "\n",
    "#Dot product\n",
    "print('u\\'.v =\\n', np.dot(u, v))\n",
    "\n",
    "#Addition/Substraction is just simple +/- but size should match"
   ]
  },
  {
   "cell_type": "markdown",
   "metadata": {},
   "source": [
    "## Finally, let's discuss about Matplotlib\n",
    "\n",
    "__Matplotlib__ is the Python library for plotting graphs and figures. Here we will look at a few examples.\n",
    "\n",
    "Find out more about this library from the [official documentation](https://matplotlib.org/3.3.3/contents.html)."
   ]
  },
  {
   "cell_type": "code",
   "execution_count": 10,
   "metadata": {},
   "outputs": [
    {
     "data": {
      "image/png": "[encoded data removed]",
      "text/plain": [
       "<Figure size 504x360 with 1 Axes>"
      ]
     },
     "metadata": {
      "needs_background": "light"
     },
     "output_type": "display_data"
    }
   ],
   "source": [
    "#Plotting a histogram\n",
    "plt.figure(figsize=(7, 5))\n",
    "plt.xticks(np.arange(0.0, 105.0, 5.0))\n",
    "plt.xlabel('Reading Score')\n",
    "plt.ylabel('No. of students')\n",
    "_, _, _ = plt.hist(x=df['reading score'], bins=20, range=(0.0, 100.0), edgecolor='black')\n",
    "plt.show()"
   ]
  },
  {
   "cell_type": "code",
   "execution_count": 11,
   "metadata": {},
   "outputs": [
    {
     "data": {
      "image/png": "[encoded data removed]",
      "text/plain": [
       "<Figure size 720x720 with 1 Axes>"
      ]
     },
     "metadata": {
      "needs_background": "light"
     },
     "output_type": "display_data"
    }
   ],
   "source": [
    "#Scatter Plot to observe the correlation\n",
    "plt.figure(figsize=(10, 10))\n",
    "plt.grid(True, linewidth=0.5, color='gray', linestyle='-')\n",
    "plt.xlabel('Reading Score')\n",
    "plt.ylabel('Writing Score')\n",
    "plt.xticks(np.arange(0.0, 105.0, 5.0))\n",
    "plt.yticks(np.arange(0.0, 105.0, 5.0))\n",
    "plt.scatter(x=df['reading score'], y=df['writing score'], s=10.0, color='orange', marker='+')\n",
    "plt.show()"
   ]
  },
  {
   "cell_type": "markdown",
   "metadata": {},
   "source": [
    "# Conclusion\n",
    "\n",
    "In this tutorial, we learnt the basics of __Pandas__, __NumPy__ and __Matplotlib__. There are many more awesome things you can do with these packages. As you set out to explore the world of _Data Science_ and _Machine Learning_, you will get to know more about these libraries and several others. There are plenty of resources available in the Internet as well as there are good books on the topic. Moreover, since you are a part of __AIMLC__, we will make sure that you have the right resources and learning environment."
   ]
  }
 ],
 "metadata": {
  "kernelspec": {
   "display_name": "Python 3",
   "language": "python",
   "name": "python3"
  },
  "language_info": {
   "codemirror_mode": {
    "name": "ipython",
    "version": 3
   },
   "file_extension": ".py",
   "mimetype": "text/x-python",
   "name": "python",
   "nbconvert_exporter": "python",
   "pygments_lexer": "ipython3",
   "version": "3.8.0"
  }
 },
 "nbformat": 4,
 "nbformat_minor": 4
}
